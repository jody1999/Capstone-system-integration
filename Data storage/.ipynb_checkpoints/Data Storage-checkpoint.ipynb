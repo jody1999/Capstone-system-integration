{
 "cells": [
  {
   "cell_type": "markdown",
   "metadata": {},
   "source": [
    " CV pass raw csv to ML, CV pass raw csv and video to DB\n",
    " \n",
    " ML pass features and results to DB\n",
    " "
   ]
  },
  {
   "cell_type": "code",
   "execution_count": 1,
   "metadata": {},
   "outputs": [],
   "source": [
    "import sqlite3\n",
    "import os\n",
    "# conn = sqlite3.connect('results.db') #create and connect \n",
    "# c = conn.cursor()# cursor to access command \n",
    "# c.execute(\n",
    "#     \"\"\"\n",
    "#     CREATE TABLE results (\n",
    "#         id integer PRIMARY KEY AUTOINCREMENT,\n",
    "#         patient_id text NOT NULL, NRIC_number text NOT NULL, operator_id text NOT NULL,time text NOT NULL,        \n",
    "#         classification integer NOT NULL,WBC_count blob NOT NULL, RBC_count blob NOT NULL,raw_video_id text NOT NULL, confirmation integer NOT NULL)\"\"\")\n",
    "# # format: null, integer, real, text, blob\n",
    "# conn.commit()\n",
    "# conn.close()"
   ]
  },
  {
   "cell_type": "code",
   "execution_count": 7,
   "metadata": {},
   "outputs": [],
   "source": [
    "class Result:\n",
    "    '''a structure to store all the information required in the results database'''\n",
    "    def __init__(self, patient_id, NRIC_number, operator_id , time, classification, WBC_count, RBC_count, raw_video_id):\n",
    "        self.patient_id = patient_id\n",
    "        self.NRIC_number = NRIC_number \n",
    "        self.operator_id  = operator_id \n",
    "        self.time = time\n",
    "        self.classification = classification \n",
    "        self.WBC_count = convertToBinaryData(WBC_count)\n",
    "        self.RBC_count = convertToBinaryData(RBC_count) \n",
    "        self.raw_video_id = raw_video_id        \n",
    "                \n",
    "        self.confirmation = 0\n",
    "    def confirm():\n",
    "        self.confirmation = 1\n",
    "        ### need to change the record in database!!\n",
    "        \n",
    "def convertToBinaryData(filename):\n",
    "    #Convert digital data to binary format\n",
    "    with open(filename, 'rb') as file:\n",
    "        blobData = file.read()\n",
    "    return blobData"
   ]
  },
  {
   "cell_type": "code",
   "execution_count": 8,
   "metadata": {},
   "outputs": [],
   "source": [
    "def insert_result(result):\n",
    "    try:\n",
    "        conn = sqlite3.connect('results.db') #create and connect \n",
    "        c = conn.cursor()# cursor to access command \n",
    "        query = '''\n",
    "                INSERT INTO results (patient_id ,NRIC_number , \n",
    "                operator_id , time , classification, WBC_count, RBC_count, raw_video_id, confirmation)\n",
    "                VALUES (?,?,?,?,?,?,?,?,?)\n",
    "                '''\n",
    "        data_tuple = (result.patient_id, result.NRIC_number, result.operator_id , \n",
    "        result.time, result.classification, result.WBC_count, result.RBC_count, \n",
    "        result.raw_video_id, result.confirmation)\n",
    "        \n",
    "        c.execute(query, data_tuple)\n",
    "        conn.commit()\n",
    "        print(\"inserted successfully into the table\")\n",
    "        c.close()\n",
    "        print('close successfully')\n",
    "    except sqlite3.Error as error:\n",
    "        print(\"Failed to insert data into sqlite table\", error)\n",
    "    finally:\n",
    "        if (conn):\n",
    "            conn.close()\n",
    "            print(\"===== the sqlite connection is closed ===== \")"
   ]
  },
  {
   "cell_type": "code",
   "execution_count": 9,
   "metadata": {},
   "outputs": [],
   "source": [
    "def writeTofile(data, filename):\n",
    "# Convert binary data to proper format and write it on Hard Disk\n",
    "    with open(filename, 'wb') as file:\n",
    "        file.write(data)\n",
    "    print(\"Stored blob data into: \", filename, \"\\n\")\n",
    "\n",
    "def readData(id = None):\n",
    "    try:\n",
    "        conn = sqlite3.connect('results.db')\n",
    "        c = conn.cursor()\n",
    "        if id: \n",
    "            query = \"\"\"SELECT * from results where id = ?\"\"\"\n",
    "            c.execute(query, (id,))\n",
    "        else:\n",
    "            query = \"\"\"SELECT * from results \"\"\"\n",
    "            c.execute(query)\n",
    "        \n",
    "        record = c.fetchall()\n",
    "        for row in record:\n",
    "            print(row[:6])\n",
    "            wbc, rbc, video = row[6], row[7], row[8]\n",
    "            \n",
    "            entry_folder = r\"D:\\Capstone\\CODE\\resume\\\\\" + str(row[0])+ \"\\\\\"            \n",
    "            if not os.path.exists(entry_folder):\n",
    "                os.makedirs(entry_folder)\n",
    "            writeTofile(wbc, entry_folder+ \"\\\\wbc.csv\")\n",
    "            writeTofile(rbc, entry_folder+ \"\\\\rbc.csv\")\n",
    "#             writeTofile(video, entry_folder+ \"\\\\video.avi\")\n",
    "            print(\"Storing blob image and resume on disk \\n\")\n",
    "\n",
    "        c.close()\n",
    "\n",
    "    except sqlite3.Error as error:\n",
    "        print(\"Failed to read blob data from sqlite table\", error)\n",
    "    finally:\n",
    "        if (conn):\n",
    "            conn.close()\n",
    "            print(\"===== sqlite connection is closed ===== \")"
   ]
  },
  {
   "cell_type": "code",
   "execution_count": 11,
   "metadata": {
    "scrolled": true
   },
   "outputs": [
    {
     "name": "stdout",
     "output_type": "stream",
     "text": [
      "inserted successfully into the table\n",
      "close successfully\n",
      "===== the sqlite connection is closed ===== \n",
      "(1, 'patient_tyesss', 'G1234565M', 'operator_1', '2020-05-01', 13543)\n",
      "Stored blob data into:  D:\\Capstone\\CODE\\resume\\\\1\\\\wbc.csv \n",
      "\n",
      "Stored blob data into:  D:\\Capstone\\CODE\\resume\\\\1\\\\rbc.csv \n",
      "\n",
      "Storing blob image and resume on disk \n",
      "\n",
      "===== sqlite connection is closed ===== \n"
     ]
    }
   ],
   "source": [
    "result_2 = Result('patient_tyesss', 'G1234565M', 'operator_1', '2020-05-01', 13543, 'features.csv','MK data.csv', 'sample1.avi')\n",
    "insert_result(result_2)\n",
    "\n",
    "readData()"
   ]
  },
  {
   "cell_type": "markdown",
   "metadata": {},
   "source": [
    "## create user table"
   ]
  },
  {
   "cell_type": "code",
   "execution_count": 3,
   "metadata": {},
   "outputs": [],
   "source": [
    "import sqlite3\n",
    "import os\n",
    "conn = sqlite3.connect('results.db') #create and connect \n",
    "c = conn.cursor()# cursor to access command \n",
    "c.execute(\n",
    "    \"\"\"\n",
    "    CREATE TABLE users (        \n",
    "        id INTEGER PRIMARY KEY AUTOINCREMENT,\n",
    "        user_id text NOT NULL, user_name text NOT NULL)\"\"\")\n",
    "# format: null, integer, real, text, blob\n",
    "conn.commit()\n",
    "conn.close()"
   ]
  },
  {
   "cell_type": "code",
   "execution_count": null,
   "metadata": {},
   "outputs": [],
   "source": [
    "def insert_user(user_id, user_name):\n",
    "    try:\n",
    "        conn = sqlite3.connect('results.db') #create and connect \n",
    "        c = conn.cursor()# cursor to access command \n",
    "        query = '''\n",
    "                INSERT INTO users (user_id, user_name)\n",
    "                VALUES (?,?)\n",
    "                '''\n",
    "        data_tuple = (user_id, user_name)        \n",
    "        c.execute(query, data_tuple)\n",
    "        conn.commit()\n",
    "        print(\"inserted successfully into the table\")\n",
    "        c.close()\n",
    "        print('close successfully')\n",
    "    except sqlite3.Error as error:\n",
    "        print(\"Failed to insert data into sqlite table\", error)\n",
    "    finally:\n",
    "        if (conn):\n",
    "            conn.close()\n",
    "            print(\"===== the sqlite connection is closed ===== \")"
   ]
  }
 ],
 "metadata": {
  "kernelspec": {
   "display_name": "Python 3",
   "language": "python",
   "name": "python3"
  },
  "language_info": {
   "codemirror_mode": {
    "name": "ipython",
    "version": 3
   },
   "file_extension": ".py",
   "mimetype": "text/x-python",
   "name": "python",
   "nbconvert_exporter": "python",
   "pygments_lexer": "ipython3",
   "version": "3.6.10"
  }
 },
 "nbformat": 4,
 "nbformat_minor": 2
}
