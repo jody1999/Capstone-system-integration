{
 "cells": [
  {
   "cell_type": "code",
   "execution_count": 1,
   "metadata": {},
   "outputs": [
    {
     "ename": "ModuleNotFoundError",
     "evalue": "No module named 'tests_common'",
     "output_type": "error",
     "traceback": [
      "\u001b[1;31m---------------------------------------------------------------------------\u001b[0m",
      "\u001b[1;31mModuleNotFoundError\u001b[0m                       Traceback (most recent call last)",
      "\u001b[1;32m<ipython-input-1-2167ca8d2f86>\u001b[0m in \u001b[0;36m<module>\u001b[1;34m\u001b[0m\n\u001b[0;32m      4\u001b[0m \u001b[1;32mimport\u001b[0m \u001b[0mnumpy\u001b[0m \u001b[1;32mas\u001b[0m \u001b[0mnp\u001b[0m\u001b[1;33m\u001b[0m\u001b[1;33m\u001b[0m\u001b[0m\n\u001b[0;32m      5\u001b[0m \u001b[1;33m\u001b[0m\u001b[0m\n\u001b[1;32m----> 6\u001b[1;33m \u001b[1;32mfrom\u001b[0m \u001b[0mtests_common\u001b[0m \u001b[1;32mimport\u001b[0m \u001b[0mNewOpenCVTests\u001b[0m\u001b[1;33m,\u001b[0m \u001b[0munittest\u001b[0m\u001b[1;33m\u001b[0m\u001b[1;33m\u001b[0m\u001b[0m\n\u001b[0m\u001b[0;32m      7\u001b[0m \u001b[1;33m\u001b[0m\u001b[0m\n\u001b[0;32m      8\u001b[0m \u001b[1;32mclass\u001b[0m \u001b[0mcudafilters_test\u001b[0m\u001b[1;33m(\u001b[0m\u001b[0mNewOpenCVTests\u001b[0m\u001b[1;33m)\u001b[0m\u001b[1;33m:\u001b[0m\u001b[1;33m\u001b[0m\u001b[1;33m\u001b[0m\u001b[0m\n",
      "\u001b[1;31mModuleNotFoundError\u001b[0m: No module named 'tests_common'"
     ]
    }
   ],
   "source": [
    "#!/usr/bin/env python\n",
    "import os\n",
    "import cv2 as cv\n",
    "import numpy as np\n",
    "from tests_common import NewOpenCVTests, unittest\n",
    "\n",
    "class cudafilters_test(NewOpenCVTests):\n",
    "    def setUp(self):\n",
    "        super(cudafilters_test, self).setUp()\n",
    "        if not cv.cuda.getCudaEnabledDeviceCount():\n",
    "            self.skipTest(\"No CUDA-capable device is detected\")\n",
    "\n",
    "    def test_existence(self):\n",
    "        #Test at least the existence of wrapped functions for now\n",
    "\n",
    "        _filter = cv.cuda.createBoxFilter(cv.CV_8UC1, -1, (3, 3))\n",
    "        _filter = cv.cuda.createLinearFilter(cv.CV_8UC4, -1, np.eye(3))\n",
    "        _filter = cv.cuda.createLaplacianFilter(cv.CV_16UC1, -1, ksize=3)\n",
    "        _filter = cv.cuda.createSeparableLinearFilter(cv.CV_8UC1, -1, np.eye(3), np.eye(3))\n",
    "        _filter = cv.cuda.createDerivFilter(cv.CV_8UC1, -1, 1, 1, 3)\n",
    "        _filter = cv.cuda.createSobelFilter(cv.CV_8UC1, -1, 1, 1)\n",
    "        _filter = cv.cuda.createScharrFilter(cv.CV_8UC1, -1, 1, 0)\n",
    "        _filter = cv.cuda.createGaussianFilter(cv.CV_8UC1, -1, (3, 3), 16)\n",
    "        _filter = cv.cuda.createMorphologyFilter(cv.MORPH_DILATE, cv.CV_32FC1, np.eye(3))\n",
    "        _filter = cv.cuda.createBoxMaxFilter(cv.CV_8UC1, (3, 3))\n",
    "        _filter = cv.cuda.createBoxMinFilter(cv.CV_8UC1, (3, 3))\n",
    "        _filter = cv.cuda.createRowSumFilter(cv.CV_8UC1, cv.CV_32FC1, 3)\n",
    "        _filter = cv.cuda.createColumnSumFilter(cv.CV_8UC1, cv.CV_32FC1, 3)\n",
    "        _filter = cv.cuda.createMedianFilter(cv.CV_8UC1, 3)\n",
    "\n",
    "        self.assertTrue(True) #It is sufficient that no exceptions have been there\n",
    "\n",
    "    def test_laplacian(self):\n",
    "        npMat = (np.random.random((128, 128)) * 255).astype(np.uint16)\n",
    "        cuMat = cv.cuda_GpuMat()\n",
    "        cuMat.upload(npMat)\n",
    "\n",
    "        self.assertTrue(np.allclose(cv.cuda.createLaplacianFilter(cv.CV_16UC1, -1, ksize=3).apply(cuMat).download(),\n",
    "                                         cv.Laplacian(npMat, cv.CV_16UC1, ksize=3)))\n",
    "\n",
    "if __name__ == '__main__':\n",
    "    NewOpenCVTests.bootstrap()\n"
   ]
  },
  {
   "cell_type": "code",
   "execution_count": 4,
   "metadata": {},
   "outputs": [
    {
     "ename": "AttributeError",
     "evalue": "module 'cv2.cuda' has no attribute 'createMedianFilter'",
     "output_type": "error",
     "traceback": [
      "\u001b[1;31m---------------------------------------------------------------------------\u001b[0m",
      "\u001b[1;31mAttributeError\u001b[0m                            Traceback (most recent call last)",
      "\u001b[1;32m<ipython-input-4-37362b397cc3>\u001b[0m in \u001b[0;36m<module>\u001b[1;34m\u001b[0m\n\u001b[0;32m      9\u001b[0m \u001b[0mstream\u001b[0m \u001b[1;33m=\u001b[0m \u001b[0mcv2\u001b[0m\u001b[1;33m.\u001b[0m\u001b[0mVideoCapture\u001b[0m\u001b[1;33m(\u001b[0m\u001b[1;34m'sample.avi'\u001b[0m\u001b[1;33m)\u001b[0m\u001b[1;33m\u001b[0m\u001b[1;33m\u001b[0m\u001b[0m\n\u001b[0;32m     10\u001b[0m \u001b[0mfps\u001b[0m \u001b[1;33m=\u001b[0m \u001b[0mFPS\u001b[0m\u001b[1;33m(\u001b[0m\u001b[1;33m)\u001b[0m\u001b[1;33m.\u001b[0m\u001b[0mstart\u001b[0m\u001b[1;33m(\u001b[0m\u001b[1;33m)\u001b[0m\u001b[1;33m\u001b[0m\u001b[1;33m\u001b[0m\u001b[0m\n\u001b[1;32m---> 11\u001b[1;33m \u001b[0mmask\u001b[0m \u001b[1;33m=\u001b[0m \u001b[0mcv\u001b[0m\u001b[1;33m.\u001b[0m\u001b[0mcuda\u001b[0m\u001b[1;33m.\u001b[0m\u001b[0mcreateMedianFilter\u001b[0m\u001b[1;33m(\u001b[0m\u001b[0mcv\u001b[0m\u001b[1;33m.\u001b[0m\u001b[0mCV_8UC1\u001b[0m\u001b[1;33m,\u001b[0m \u001b[1;36m3\u001b[0m\u001b[1;33m)\u001b[0m\u001b[1;33m\u001b[0m\u001b[1;33m\u001b[0m\u001b[0m\n\u001b[0m\u001b[0;32m     12\u001b[0m \u001b[1;31m# fgbg = cv2.createBackgroundSubtractorMOG2()\u001b[0m\u001b[1;33m\u001b[0m\u001b[1;33m\u001b[0m\u001b[1;33m\u001b[0m\u001b[0m\n\u001b[0;32m     13\u001b[0m \u001b[1;33m\u001b[0m\u001b[0m\n",
      "\u001b[1;31mAttributeError\u001b[0m: module 'cv2.cuda' has no attribute 'createMedianFilter'"
     ]
    }
   ],
   "source": [
    "# import the necessary packages\n",
    "from imutils.video import FPS\n",
    "import numpy as np\n",
    "import argparse\n",
    "import imutils\n",
    "import cv2 as cv\n",
    "\n",
    "# # open a pointer to the video stream and start the FPS timer\n",
    "stream = cv2.VideoCapture('sample.avi')\n",
    "fps = FPS().start()\n",
    "mask = cv.cuda.createMedianFilter(cv.CV_8UC1, 3)\n",
    "# fgbg = cv2.createBackgroundSubtractorMOG2()\n",
    "\n",
    "\n",
    "# loop over frames from the video file stream\n",
    "while True:\n",
    "\t# grab the frame from the threaded video file stream\n",
    "\t(grabbed, frame) = stream.read()\n",
    "\t# if the frame was not grabbed, then we have reached the end\n",
    "\t# of the stream\n",
    "\tif not grabbed:\n",
    "\t\tbreak\n",
    "\t# resize the frame and convert it to grayscale (while still\n",
    "\t# retaining 3 channels)\n",
    "# \tframe = imutils.resize(frame, width=450)\n",
    "# \tframe = cv2.cvtColor(frame, cv2.COLOR_BGR2GRAY)\n",
    "\tframe = mask.apply(frame)\n",
    "\tframe = np.dstack([frame, frame, frame])\n",
    "\t# display a piece of text to the frame (so we can benchmark\n",
    "\t# fairly against the fast method)\n",
    "\tcv2.putText(frame, \"Slow Method\", (10, 30),\n",
    "\t\tcv2.FONT_HERSHEY_SIMPLEX, 0.6, (0, 255, 0), 2)\t\n",
    "\t# show the frame and update the FPS counter\n",
    "\t# cv2.imshow(\"Frame\", frame)\n",
    "\tcv2.waitKey(1)\n",
    "\tfps.update()\n",
    "# stop the timer and display FPS information\n",
    "fps.stop()\n",
    "print(\"[INFO] elasped time: {:.2f}\".format(fps.elapsed()))\n",
    "print(\"[INFO] approx. FPS: {:.2f}\".format(fps.fps()))\n",
    "# do a bit of cleanup\n",
    "stream.release()\n",
    "cv2.destroyAllWindows()"
   ]
  },
  {
   "cell_type": "code",
   "execution_count": null,
   "metadata": {},
   "outputs": [],
   "source": []
  }
 ],
 "metadata": {
  "kernelspec": {
   "display_name": "Python 3",
   "language": "python",
   "name": "python3"
  },
  "language_info": {
   "codemirror_mode": {
    "name": "ipython",
    "version": 3
   },
   "file_extension": ".py",
   "mimetype": "text/x-python",
   "name": "python",
   "nbconvert_exporter": "python",
   "pygments_lexer": "ipython3",
   "version": "3.6.10"
  }
 },
 "nbformat": 4,
 "nbformat_minor": 4
}
