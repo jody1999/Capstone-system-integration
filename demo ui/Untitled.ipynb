{
 "cells": [
  {
   "cell_type": "code",
   "execution_count": 1,
   "metadata": {},
   "outputs": [],
   "source": [
    "a = 'single_sample_Raw'\n",
    "b = 'single_sample_RBC_Raw'"
   ]
  },
  {
   "cell_type": "code",
   "execution_count": 37,
   "metadata": {},
   "outputs": [],
   "source": [
    "import pandas as pd\n",
    "a = 'D:\\\\Capstone\\\\CODE\\\\Capstone-system-integration\\\\demo ui\\data\\Count.csv'\n",
    "WBC_Raw = pd.read_csv(a)\n"
   ]
  },
  {
   "cell_type": "code",
   "execution_count": 38,
   "metadata": {},
   "outputs": [],
   "source": [
    "r = [i for i in range(1, 81)]\n",
    "WBC_Raw= WBC_Raw.drop(r)"
   ]
  },
  {
   "cell_type": "code",
   "execution_count": 39,
   "metadata": {},
   "outputs": [],
   "source": [
    "WBC_Raw = WBC_Raw.drop([81,82,83,84])"
   ]
  },
  {
   "cell_type": "code",
   "execution_count": 40,
   "metadata": {},
   "outputs": [
    {
     "data": {
      "text/html": [
       "<div>\n",
       "<style scoped>\n",
       "    .dataframe tbody tr th:only-of-type {\n",
       "        vertical-align: middle;\n",
       "    }\n",
       "\n",
       "    .dataframe tbody tr th {\n",
       "        vertical-align: top;\n",
       "    }\n",
       "\n",
       "    .dataframe thead th {\n",
       "        text-align: right;\n",
       "    }\n",
       "</style>\n",
       "<table border=\"1\" class=\"dataframe\">\n",
       "  <thead>\n",
       "    <tr style=\"text-align: right;\">\n",
       "      <th></th>\n",
       "      <th>Sample</th>\n",
       "      <th>InvL35_Exposure(us)</th>\n",
       "      <th>InvL35_Total Frames</th>\n",
       "      <th>InvL350_Exposure(us)</th>\n",
       "      <th>InvL350_Total Frames</th>\n",
       "      <th>L35_Exposure(us)</th>\n",
       "      <th>L35_Total Frames</th>\n",
       "      <th>L350_Exposure(us)</th>\n",
       "      <th>L350_Total Frames</th>\n",
       "    </tr>\n",
       "  </thead>\n",
       "  <tbody>\n",
       "    <tr>\n",
       "      <th>0</th>\n",
       "      <td>HC201</td>\n",
       "      <td>66667</td>\n",
       "      <td>3083</td>\n",
       "      <td>6667</td>\n",
       "      <td>8942</td>\n",
       "      <td>66667</td>\n",
       "      <td>3235</td>\n",
       "      <td>6667</td>\n",
       "      <td>8942</td>\n",
       "    </tr>\n",
       "  </tbody>\n",
       "</table>\n",
       "</div>"
      ],
      "text/plain": [
       "  Sample  InvL35_Exposure(us)  InvL35_Total Frames  InvL350_Exposure(us)  \\\n",
       "0  HC201                66667                 3083                  6667   \n",
       "\n",
       "   InvL350_Total Frames  L35_Exposure(us)  L35_Total Frames  \\\n",
       "0                  8942             66667              3235   \n",
       "\n",
       "   L350_Exposure(us)  L350_Total Frames  \n",
       "0               6667               8942  "
      ]
     },
     "execution_count": 40,
     "metadata": {},
     "output_type": "execute_result"
    }
   ],
   "source": [
    "WBC_Raw"
   ]
  },
  {
   "cell_type": "code",
   "execution_count": 41,
   "metadata": {},
   "outputs": [],
   "source": [
    "WBC_Raw.to_csv('D:\\\\Capstone\\\\CODE\\\\Capstone-system-integration\\\\demo ui\\data\\single_sample_Count.csv')\n"
   ]
  },
  {
   "cell_type": "code",
   "execution_count": null,
   "metadata": {},
   "outputs": [],
   "source": []
  }
 ],
 "metadata": {
  "kernelspec": {
   "display_name": "Python 3",
   "language": "python",
   "name": "python3"
  },
  "language_info": {
   "codemirror_mode": {
    "name": "ipython",
    "version": 3
   },
   "file_extension": ".py",
   "mimetype": "text/x-python",
   "name": "python",
   "nbconvert_exporter": "python",
   "pygments_lexer": "ipython3",
   "version": "3.6.10"
  }
 },
 "nbformat": 4,
 "nbformat_minor": 4
}
