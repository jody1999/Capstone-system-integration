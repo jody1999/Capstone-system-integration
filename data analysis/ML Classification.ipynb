{
 "cells": [
  {
   "cell_type": "code",
   "execution_count": 43,
   "metadata": {},
   "outputs": [
    {
     "name": "stdout",
     "output_type": "stream",
     "text": [
      "========= File Data \"new features.csv\" ========= \n",
      "\n",
      "Total = 50004 ||  True Positive (1) = 20895  ||  True Negatives (0) = 20867\n",
      "\n",
      "(Sensitivity) True Positive Rate = 83.780%\n",
      "(Specificity) True Negative Rate = 83.780%\n",
      "(Accuracy) = 83.517%\n",
      "(Precision) Positive predictive value (PPV) = 83.798%\n",
      "\n",
      "False Negative Rate = 16.743%\n",
      "False Positive Rate = 16.220%\n",
      "\n",
      "MCC Matthews correlation coefficient = 0.670\n",
      "\n",
      "Total Count =  50004\n",
      "========= ========== ========= ========= =========\n",
      "\n",
      "The run took 6.853565s\n"
     ]
    }
   ],
   "source": [
    "import random\n",
    "import math\n",
    "import operator\n",
    "import time\n",
    "import statistics\n",
    "import time\n",
    "import pandas as pd\n",
    "from sklearn.preprocessing import StandardScaler\n",
    "from sklearn.model_selection import train_test_split\n",
    "from sklearn.tree import DecisionTreeClassifier\n",
    "from sklearn.metrics import classification_report, confusion_matrix\n",
    "\n",
    "def loadDataset(file_data):\n",
    "    df = pd.read_csv(file_data)\n",
    "    target = df['Patient']\n",
    "    features = df.drop(['Sample','Patient'], axis = 1)\n",
    "    target = target.where(target >= 0, 0)\n",
    "    target = target.where(target <= 1, 1)\n",
    "    return features, target\n",
    "\n",
    "def train(x, y, max_count):\n",
    "    total_count = 0\n",
    "    TP, FP, TN, FN, P, N =0, 0, 0, 0, 0, 0\n",
    "\n",
    "    while (total_count <= max_count):\n",
    "        try:\n",
    "            X_train, X_test, y_train, y_test = train_test_split(x, y, test_size = 0.1)\n",
    "\n",
    "            clf = DecisionTreeClassifier(random_state=0)            \n",
    "            clf.fit(X_train, y_train)\n",
    "\n",
    "            y_pred = clf.predict(X_test)\n",
    "            for i in range(len(y_test)):\n",
    "                if y_test[i] == 1 and y_pred[i] == 1:\n",
    "                    TP, P = TP+1, P+1\n",
    "                elif y_test[i] == 1 and y_pred[i] == 0:\n",
    "                    FN, P = FN+1, P+1\n",
    "                elif y_test[i] == 0 and y_pred[i] == 0:\n",
    "                    TN, N = TN+1, N+1 \n",
    "                elif y_test[i] == 0 and y_pred[i] == 1:\n",
    "                    FP, N = FP+1, N+1         \n",
    "            total_count += len(y_test)\n",
    "        except Exception as ex:\n",
    "            template = \"An exception of type {0} occurred. Arguments:\\n{1!r}\"\n",
    "            message = template.format(type(ex).__name__, ex.args)\n",
    "            print(message)\n",
    "            break\n",
    "    sensitivity = (TP/P)*100\n",
    "    specificity = (TN/N)*100\n",
    "    accuracy = (TP+TN)/(P+N)*100\n",
    "    precision = TP/(TP+FP)*100\n",
    "    MCC = ((TP*TN)-(FP*FN))/math.sqrt((TP+FP)*(TP+FN)*(TN+FP)*(TN+FN))\n",
    "    return sensitivity, specificity, accuracy, precision, MCC, total_count, (TP, FP, TN, FN, P, N), clf\n",
    "    # recall of the positive class is also known as “sensitivity”; recall of the negative class is “specificity”.\n",
    "\n",
    "    \n",
    "if __name__ == \"__main__\":\n",
    "    start=time.time()\n",
    "    file_data= 'new features.csv'\n",
    "    max_count = 50000   \n",
    "\n",
    "    ### Load Data ###\n",
    "    features, target = loadDataset(file_data)\n",
    "    features = StandardScaler().fit_transform(features)\n",
    "    \n",
    "    \n",
    "    sensitivity, specificity, accuracy, precision, MCC, total_count, nums, clf = train(features, target.values, max_count)\n",
    "    TP, FP, TN, FN, P, N = nums    \n",
    "\n",
    "    print('========= File Data \"%s' % file_data + '\" ========= \\n')\n",
    "    print('Total =',total_count,'||  True Positive (1) =',TP,' ||  True Negatives (0) =', TN)\n",
    "    print()\n",
    "    print('(Sensitivity) True Positive Rate = %0.3f' %(specificity)+'%')\n",
    "    print('(Specificity) True Negative Rate = %0.3f' %(specificity)+'%')\n",
    "    print('(Accuracy) = %0.3f' %(accuracy)+'%')\n",
    "    print('(Precision) Positive predictive value (PPV) = %0.3f' %(precision)+'%')\n",
    "    print()\n",
    "    print('False Negative Rate = %0.3f' %((FN/P)*100)+'%')\n",
    "    print('False Positive Rate = %0.3f' %((FP/N)*100)+'%')\n",
    "    print()\n",
    "    print('MCC Matthews correlation coefficient = %0.3f' % MCC)\n",
    "    print()\n",
    "    print('Total Count = ',total_count)\n",
    "    print('========= ========== ========= ========= =========\\n')\n",
    "    # print(classification_report(y_test,y_pred))\n",
    "\n",
    "    ### END ###\n",
    "    end=time.time()\n",
    "    print('The run took %0.6fs' % (end-start)) "
   ]
  },
  {
   "cell_type": "code",
   "execution_count": 44,
   "metadata": {},
   "outputs": [
    {
     "data": {
      "text/plain": [
       "array([0, 0, 0, 0, 0, 0, 0, 0, 0, 0, 0, 0, 0, 0, 0, 0, 0, 0, 0, 0, 0, 0,\n",
       "       0, 0, 0, 0, 0, 0, 0, 0, 0, 0, 0, 0, 0, 0, 0, 0, 0, 0, 0, 0, 0, 1,\n",
       "       1, 1, 1, 1, 1, 1, 1, 1, 1, 1, 1, 1, 1, 1, 1, 1, 1, 1, 1, 1, 1, 1,\n",
       "       1, 1, 1, 1, 1, 1, 1, 1, 1, 1, 1, 1, 1, 1, 1, 1, 1, 1, 1, 1],\n",
       "      dtype=int64)"
      ]
     },
     "execution_count": 44,
     "metadata": {},
     "output_type": "execute_result"
    }
   ],
   "source": [
    "target.values"
   ]
  },
  {
   "cell_type": "code",
   "execution_count": 45,
   "metadata": {},
   "outputs": [
    {
     "data": {
      "text/plain": [
       "(83.25696298362354, 83.7796603364516, 83.51731861451084, 83.79787447363144)"
      ]
     },
     "execution_count": 45,
     "metadata": {},
     "output_type": "execute_result"
    }
   ],
   "source": [
    "sensitivity, specificity, accuracy, precision"
   ]
  },
  {
   "cell_type": "markdown",
   "metadata": {},
   "source": [
    "## Select top n features"
   ]
  },
  {
   "cell_type": "code",
   "execution_count": 30,
   "metadata": {},
   "outputs": [
    {
     "data": {
      "image/png": "[encoded data removed]",
      "text/plain": [
       "<Figure size 720x576 with 1 Axes>"
      ]
     },
     "metadata": {
      "needs_background": "light"
     },
     "output_type": "display_data"
    }
   ],
   "source": [
    "import pandas as pd\n",
    "dataset = pd.read_csv('new features.csv')\n",
    "df = pd.DataFrame({'cols':dataset.columns[2:], 'imp':clf.feature_importances_})\n",
    "ax = df.sort_values(\"imp\").plot.barh(x='cols', y='imp', figsize=(10,8))"
   ]
  },
  {
   "cell_type": "code",
   "execution_count": 31,
   "metadata": {},
   "outputs": [],
   "source": [
    "feature_imp_dict = dict(zip(dataset.columns[2:], clf.feature_importances_))\n",
    "feature_imp_dict = sorted(feature_imp_dict, reverse=True, key = lambda x: feature_imp_dict[x])"
   ]
  },
  {
   "cell_type": "code",
   "execution_count": 32,
   "metadata": {},
   "outputs": [
    {
     "name": "stdout",
     "output_type": "stream",
     "text": [
      "========= File Data: selected TOP 1 features =========\n",
      "(Accuracy) = 78.866%\n",
      "========= File Data: selected TOP 2 features =========\n",
      "(Accuracy) = 86.327%\n",
      "========= File Data: selected TOP 3 features =========\n",
      "(Accuracy) = 88.335%\n",
      "========= File Data: selected TOP 4 features =========\n",
      "(Accuracy) = 86.379%\n",
      "========= File Data: selected TOP 5 features =========\n",
      "(Accuracy) = 86.615%\n",
      "========= File Data: selected TOP 6 features =========\n",
      "(Accuracy) = 85.507%\n",
      "========= File Data: selected TOP 7 features =========\n",
      "(Accuracy) = 85.005%\n",
      "========= File Data: selected TOP 8 features =========\n",
      "(Accuracy) = 84.091%\n",
      "========= File Data: selected TOP 9 features =========\n",
      "(Accuracy) = 85.083%\n",
      "========= File Data: selected TOP 10 features =========\n",
      "(Accuracy) = 83.739%\n",
      "========= File Data: selected TOP 11 features =========\n",
      "(Accuracy) = 83.905%\n",
      "========= File Data: selected TOP 12 features =========\n",
      "(Accuracy) = 84.823%\n",
      "========= File Data: selected TOP 13 features =========\n",
      "(Accuracy) = 85.729%\n",
      "========= File Data: selected TOP 14 features =========\n",
      "(Accuracy) = 84.899%\n",
      "========= File Data: selected TOP 15 features =========\n",
      "(Accuracy) = 83.207%\n",
      "========= File Data: selected TOP 16 features =========\n",
      "(Accuracy) = 85.333%\n",
      "========= File Data: selected TOP 17 features =========\n",
      "(Accuracy) = 85.065%\n",
      "========= File Data: selected TOP 18 features =========\n",
      "(Accuracy) = 83.785%\n",
      "========= File Data: selected TOP 19 features =========\n",
      "(Accuracy) = 84.407%\n",
      "========= File Data: selected TOP 20 features =========\n",
      "(Accuracy) = 85.229%\n",
      "========= File Data: selected TOP 21 features =========\n",
      "(Accuracy) = 84.847%\n",
      "========= File Data: selected TOP 22 features =========\n",
      "(Accuracy) = 85.605%\n",
      "========= File Data: selected TOP 23 features =========\n",
      "(Accuracy) = 84.219%\n",
      "========= File Data: selected TOP 24 features =========\n",
      "(Accuracy) = 84.105%\n",
      "========= File Data: selected TOP 25 features =========\n",
      "(Accuracy) = 85.365%\n",
      "========= File Data: selected TOP 26 features =========\n",
      "(Accuracy) = 83.195%\n",
      "========= File Data: selected TOP 27 features =========\n",
      "(Accuracy) = 85.417%\n",
      "========= File Data: selected TOP 28 features =========\n",
      "(Accuracy) = 84.669%\n",
      "========= File Data: selected TOP 29 features =========\n",
      "(Accuracy) = 84.153%\n",
      "========= File Data: selected TOP 30 features =========\n",
      "(Accuracy) = 83.835%\n",
      "========= File Data: selected TOP 31 features =========\n",
      "(Accuracy) = 83.507%\n",
      "========= File Data: selected TOP 32 features =========\n",
      "(Accuracy) = 83.839%\n",
      "========= File Data: selected TOP 33 features =========\n",
      "(Accuracy) = 83.441%\n",
      "========= File Data: selected TOP 34 features =========\n",
      "(Accuracy) = 83.769%\n",
      "========= File Data: selected TOP 35 features =========\n",
      "(Accuracy) = 84.213%\n",
      "========= File Data: selected TOP 36 features =========\n",
      "(Accuracy) = 82.787%\n",
      "========= File Data: selected TOP 37 features =========\n",
      "(Accuracy) = 84.051%\n",
      "========= File Data: selected TOP 38 features =========\n",
      "(Accuracy) = 83.925%\n",
      "========= File Data: selected TOP 39 features =========\n",
      "(Accuracy) = 83.841%\n",
      "========= File Data: selected TOP 40 features =========\n",
      "(Accuracy) = 83.901%\n",
      "========= File Data: selected TOP 41 features =========\n",
      "(Accuracy) = 83.913%\n",
      "========= File Data: selected TOP 42 features =========\n",
      "(Accuracy) = 83.699%\n",
      "========= File Data: selected TOP 43 features =========\n",
      "(Accuracy) = 83.799%\n",
      "========= File Data: selected TOP 44 features =========\n",
      "(Accuracy) = 83.487%\n",
      "========= File Data: selected TOP 45 features =========\n",
      "(Accuracy) = 81.353%\n"
     ]
    }
   ],
   "source": [
    "result_record = []\n",
    "for i in range(1, len(feature_imp_dict)):\n",
    "    max_count = 50000   \n",
    "\n",
    "    ### Load Data ###\n",
    "    target = dataset['Patient']\n",
    "    top_n_features = feature_imp_dict[:i]\n",
    "    features = dataset[top_n_features]\n",
    "    \n",
    "    target = target.where(target >= 0, 0)\n",
    "    target = target.where(target <= 1, 1)    \n",
    "    features = StandardScaler().fit_transform(features)\n",
    "    \n",
    "    sensitivity, specificity, accuracy, precision, MCC, total_count, nums, new_clf = train(features, target.values, max_count)\n",
    "    TP, FP, TN, FN, P, N = nums    \n",
    "\n",
    "    print('========= File Data: selected TOP ' + str(i)+ ' features =========')\n",
    "    print('(Accuracy) = %0.3f' %(accuracy)+'%')\n",
    "    result_record.append([sensitivity, specificity, accuracy, precision])\n",
    "    ### END ###"
   ]
  },
  {
   "cell_type": "code",
   "execution_count": 33,
   "metadata": {},
   "outputs": [
    {
     "data": {
      "image/png": "[encoded data removed]",
      "text/plain": [
       "<Figure size 1440x216 with 1 Axes>"
      ]
     },
     "metadata": {
      "needs_background": "light"
     },
     "output_type": "display_data"
    }
   ],
   "source": [
    "import matplotlib.pyplot as plt\n",
    "import numpy as np\n",
    "\n",
    "plt.rcParams[\"figure.figsize\"] = (20,3)\n",
    "x = np.arange(len(result_record))\n",
    "sensitivity, specificity, accuracy, precision = [i[0] for i in result_record],[i[1] for i in result_record], [i[2] for i in result_record],[i[3] for i in result_record]\n",
    "plt.plot(x, sensitivity, '.',  label='sensitivity')\n",
    "plt.plot(x, specificity, '.',  label='specificity')\n",
    "plt.plot(x, accuracy, '.',  label='accuracy')\n",
    "# plt.plot(x, precision, '.',  label='precision')\n",
    "plt.legend()\n",
    "plt.show()\n"
   ]
  },
  {
   "cell_type": "code",
   "execution_count": 34,
   "metadata": {},
   "outputs": [
    {
     "data": {
      "text/plain": [
       "(90.45778716283517, 88.90711256900552, 88.33493320534357, 87.97171857378329)"
      ]
     },
     "execution_count": 34,
     "metadata": {},
     "output_type": "execute_result"
    }
   ],
   "source": [
    "max(sensitivity),max(specificity),max(accuracy), max(precision)"
   ]
  },
  {
   "cell_type": "code",
   "execution_count": 35,
   "metadata": {},
   "outputs": [
    {
     "data": {
      "text/plain": [
       "(84.18773826549949, 84.49066824192347, 84.33943062332791, 84.46219596067905)"
      ]
     },
     "execution_count": 35,
     "metadata": {},
     "output_type": "execute_result"
    }
   ],
   "source": [
    "np.mean(sensitivity),np.mean(specificity),np.mean(accuracy), np.mean(precision)"
   ]
  },
  {
   "cell_type": "markdown",
   "metadata": {},
   "source": [
    "## Other Distribution"
   ]
  },
  {
   "cell_type": "code",
   "execution_count": 36,
   "metadata": {},
   "outputs": [],
   "source": [
    "# Chi Seng new counts:\n",
    "# data = '0 0 530 6374 11892 7631 320 14 22 4 0 0 0 0 0 0 0 0 0 0 6 7 6 8 9 12 17 0 6 0 0 0 0 0 0 0 0 0'\n",
    "# data = data.split(' ')\n",
    "# data = [int(i) for i in data]"
   ]
  },
  {
   "cell_type": "code",
   "execution_count": 37,
   "metadata": {},
   "outputs": [
    {
     "data": {
      "text/plain": [
       "[1, 531, 20886, 23360, 25157, 5239, 35, 0, 0, 0, 0, 0, 0, 0, 0]"
      ]
     },
     "execution_count": 37,
     "metadata": {},
     "output_type": "execute_result"
    }
   ],
   "source": [
    "data = [0 for i in range(15)]\n",
    "data[0:7] = [1,531, 20886, 23360, 25157, 5239,35]\n",
    "data"
   ]
  },
  {
   "cell_type": "code",
   "execution_count": 38,
   "metadata": {},
   "outputs": [],
   "source": [
    "# myfilepath = r'D:\\\\Capstone\\CODE\\counts.xlsx'\n",
    "# import pandas\n",
    "# excel_data_df = pandas.read_excel(myfilepath, sheet_name='counts')\n",
    "# # print whole sheet data\n",
    "# print(excel_data_df)"
   ]
  },
  {
   "cell_type": "code",
   "execution_count": 39,
   "metadata": {},
   "outputs": [
    {
     "data": {
      "text/plain": [
       "[<matplotlib.lines.Line2D at 0x1a2c7475518>]"
      ]
     },
     "execution_count": 39,
     "metadata": {},
     "output_type": "execute_result"
    },
    {
     "data": {
      "image/png": "[encoded data removed]",
      "text/plain": [
       "<Figure size 1440x216 with 1 Axes>"
      ]
     },
     "metadata": {
      "needs_background": "light"
     },
     "output_type": "display_data"
    }
   ],
   "source": [
    "import matplotlib.pyplot as plt\n",
    "plt.plot(data)"
   ]
  },
  {
   "cell_type": "code",
   "execution_count": 40,
   "metadata": {},
   "outputs": [
    {
     "name": "stderr",
     "output_type": "stream",
     "text": [
      "C:\\Anaconda3\\envs\\heyjody\\lib\\site-packages\\scipy\\stats\\_distn_infrastructure.py:2407: RuntimeWarning: invalid value encountered in double_scalars\n",
      "  Lhat = muhat - Shat*mu\n",
      "C:\\Anaconda3\\envs\\heyjody\\lib\\site-packages\\scipy\\stats\\_continuous_distns.py:422: RuntimeWarning: divide by zero encountered in true_divide\n",
      "  return 1.0/np.pi/np.sqrt(x*(1-x))\n"
     ]
    },
    {
     "name": "stdout",
     "output_type": "stream",
     "text": [
      "Fitted alpha distribution with error=7.096416791669068e-06)\n",
      "Fitted anglit distribution with error=7.247520374287907e-06)\n",
      "Fitted arcsine distribution with error=7.118545327607323e-06)\n"
     ]
    },
    {
     "name": "stderr",
     "output_type": "stream",
     "text": [
      "C:\\Anaconda3\\envs\\heyjody\\lib\\site-packages\\scipy\\stats\\_distn_infrastructure.py:1702: RuntimeWarning: invalid value encountered in log\n",
      "  return log(self._pdf(x, *args))\n",
      "C:\\Anaconda3\\envs\\heyjody\\lib\\site-packages\\scipy\\stats\\_continuous_distns.py:7953: RuntimeWarning: divide by zero encountered in double_scalars\n",
      "  return chi**3 / (_norm_pdf_C * _argus_phi(chi)) * x * np.sqrt(y) * np.exp(-chi**2 * y / 2)\n",
      "C:\\Anaconda3\\envs\\heyjody\\lib\\site-packages\\scipy\\stats\\_continuous_distns.py:547: RuntimeWarning: invalid value encountered in sqrt\n",
      "  sk = 2*(b-a)*np.sqrt(a + b + 1) / (a + b + 2) / np.sqrt(a*b)\n",
      "C:\\Anaconda3\\envs\\heyjody\\lib\\site-packages\\scipy\\stats\\_continuous_distns.py:708: RuntimeWarning: divide by zero encountered in true_divide\n",
      "  a/(b-1.0),\n",
      "C:\\Anaconda3\\envs\\heyjody\\lib\\site-packages\\scipy\\stats\\_continuous_distns.py:712: RuntimeWarning: divide by zero encountered in true_divide\n",
      "  a*(a+1.0)/((b-2.0)*(b-1.0)),\n",
      "C:\\Anaconda3\\envs\\heyjody\\lib\\site-packages\\scipy\\stats\\_distn_infrastructure.py:1063: RuntimeWarning: invalid value encountered in subtract\n",
      "  mu2 = mu2p - mu * mu\n"
     ]
    },
    {
     "name": "stdout",
     "output_type": "stream",
     "text": [
      "Fitted argus distribution with error=7.404058471170068e-06)\n",
      "Fitted beta distribution with error=5.9162333127034625e-06)\n",
      "Fitted betaprime distribution with error=7.373761361674742e-06)\n",
      "Fitted bradford distribution with error=5.721631704947329e-06)\n",
      "Fitted burr distribution with error=6.523391639571016e-06)\n",
      "Fitted burr12 distribution with error=5.6844088094084006e-06)\n",
      "Fitted cauchy distribution with error=7.37376141395524e-06)\n",
      "Fitted gamma distribution with error=4.609012801458442e-06)\n"
     ]
    }
   ],
   "source": [
    "# https://fitter.readthedocs.io/en/latest/\n",
    "from fitter import Fitter\n",
    "f = Fitter(data)\n",
    "f.distributions = f.distributions[0:10] + ['gamma']\n",
    "f.fit()"
   ]
  },
  {
   "cell_type": "code",
   "execution_count": 41,
   "metadata": {},
   "outputs": [
    {
     "data": {
      "text/html": [
       "<div>\n",
       "<style scoped>\n",
       "    .dataframe tbody tr th:only-of-type {\n",
       "        vertical-align: middle;\n",
       "    }\n",
       "\n",
       "    .dataframe tbody tr th {\n",
       "        vertical-align: top;\n",
       "    }\n",
       "\n",
       "    .dataframe thead th {\n",
       "        text-align: right;\n",
       "    }\n",
       "</style>\n",
       "<table border=\"1\" class=\"dataframe\">\n",
       "  <thead>\n",
       "    <tr style=\"text-align: right;\">\n",
       "      <th></th>\n",
       "      <th>sumsquare_error</th>\n",
       "      <th>aic</th>\n",
       "      <th>bic</th>\n",
       "      <th>kl_div</th>\n",
       "    </tr>\n",
       "  </thead>\n",
       "  <tbody>\n",
       "    <tr>\n",
       "      <th>gamma</th>\n",
       "      <td>0.000005</td>\n",
       "      <td>2321.833855</td>\n",
       "      <td>-216.809055</td>\n",
       "      <td>inf</td>\n",
       "    </tr>\n",
       "    <tr>\n",
       "      <th>burr12</th>\n",
       "      <td>0.000006</td>\n",
       "      <td>2670.582219</td>\n",
       "      <td>-210.955304</td>\n",
       "      <td>inf</td>\n",
       "    </tr>\n",
       "    <tr>\n",
       "      <th>bradford</th>\n",
       "      <td>0.000006</td>\n",
       "      <td>2188.382309</td>\n",
       "      <td>-213.565450</td>\n",
       "      <td>inf</td>\n",
       "    </tr>\n",
       "    <tr>\n",
       "      <th>beta</th>\n",
       "      <td>0.000006</td>\n",
       "      <td>2284.750700</td>\n",
       "      <td>-210.355711</td>\n",
       "      <td>inf</td>\n",
       "    </tr>\n",
       "    <tr>\n",
       "      <th>burr</th>\n",
       "      <td>0.000007</td>\n",
       "      <td>2563.469070</td>\n",
       "      <td>-208.890294</td>\n",
       "      <td>inf</td>\n",
       "    </tr>\n",
       "  </tbody>\n",
       "</table>\n",
       "</div>"
      ],
      "text/plain": [
       "          sumsquare_error          aic         bic  kl_div\n",
       "gamma            0.000005  2321.833855 -216.809055     inf\n",
       "burr12           0.000006  2670.582219 -210.955304     inf\n",
       "bradford         0.000006  2188.382309 -213.565450     inf\n",
       "beta             0.000006  2284.750700 -210.355711     inf\n",
       "burr             0.000007  2563.469070 -208.890294     inf"
      ]
     },
     "execution_count": 41,
     "metadata": {},
     "output_type": "execute_result"
    },
    {
     "data": {
      "image/png": "[encoded data removed]",
      "text/plain": [
       "<Figure size 1440x216 with 1 Axes>"
      ]
     },
     "metadata": {
      "needs_background": "light"
     },
     "output_type": "display_data"
    }
   ],
   "source": [
    "f.summary()"
   ]
  },
  {
   "cell_type": "code",
   "execution_count": null,
   "metadata": {},
   "outputs": [],
   "source": []
  }
 ],
 "metadata": {
  "kernelspec": {
   "display_name": "Python 3",
   "language": "python",
   "name": "python3"
  },
  "language_info": {
   "codemirror_mode": {
    "name": "ipython",
    "version": 3
   },
   "file_extension": ".py",
   "mimetype": "text/x-python",
   "name": "python",
   "nbconvert_exporter": "python",
   "pygments_lexer": "ipython3",
   "version": "3.6.10"
  }
 },
 "nbformat": 4,
 "nbformat_minor": 4
}
